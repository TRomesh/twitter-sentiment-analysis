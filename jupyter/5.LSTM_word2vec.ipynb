{
 "cells": [
  {
   "cell_type": "markdown",
   "metadata": {},
   "source": [
    "# Convolution Neural Networks with GLOVE o WORD2VEC"
   ]
  },
  {
   "cell_type": "code",
   "execution_count": 1,
   "metadata": {},
   "outputs": [
    {
     "name": "stderr",
     "output_type": "stream",
     "text": [
      "/Users/sebastiancorrea/anaconda3/lib/python3.6/site-packages/h5py/__init__.py:36: FutureWarning: Conversion of the second argument of issubdtype from `float` to `np.floating` is deprecated. In future, it will be treated as `np.float64 == np.dtype(float).type`.\n",
      "  from ._conv import register_converters as _register_converters\n",
      "Using TensorFlow backend.\n",
      "/Users/sebastiancorrea/anaconda3/lib/python3.6/importlib/_bootstrap.py:219: RuntimeWarning: compiletime version 3.5 of module 'tensorflow.python.framework.fast_tensor_util' does not match runtime version 3.6\n",
      "  return f(*args, **kwds)\n"
     ]
    }
   ],
   "source": [
    "import pandas as pd\n",
    "import numpy as np\n",
    "import sys\n",
    "sys.path.append(\"../\") \n",
    "\n",
    "from scipy.sparse import hstack\n",
    "\n",
    "from sklearn.model_selection import train_test_split\n",
    "from sklearn import decomposition\n",
    "from sklearn.feature_extraction.text import (\n",
    "    CountVectorizer,\n",
    "    TfidfVectorizer\n",
    ")\n",
    "from sklearn.metrics import f1_score\n",
    "from ast import literal_eval\n",
    "\n",
    "from personal_library.sce_keras.callbacks import (\n",
    "    F1PrecisionRecall,\n",
    "    LearningRateDecay\n",
    ")\n",
    "from personal_library.sce_keras.loss_functions import f1_loss\n",
    "from personal_library.sce_keras.metrics_functions import f1"
   ]
  },
  {
   "cell_type": "code",
   "execution_count": 2,
   "metadata": {},
   "outputs": [],
   "source": [
    "x = np.load('../data/dataset/X.npy')#.reshape(x.shape[0], x.shape[1], x.shape[2], 1)\n",
    "y = np.load('../data/dataset/y.npy')\n",
    "\n",
    "shape = x[0].shape\n",
    "x_train, x_val, y_train, y_val = train_test_split(x, y, random_state=1992, test_size=0.2)"
   ]
  },
  {
   "cell_type": "code",
   "execution_count": null,
   "metadata": {},
   "outputs": [
    {
     "name": "stdout",
     "output_type": "stream",
     "text": [
      "Train on 25569 samples, validate on 6393 samples\n",
      "Epoch 1/20\n",
      "25569/25569 [==============================] - 34s 1ms/step - loss: 0.2139 - acc: 0.9308 - f1: 0.1960 - val_loss: 0.2071 - val_acc: 0.9379 - val_f1: 0.1894\n",
      "Epoch 2/20\n",
      "25569/25569 [==============================] - 28s 1ms/step - loss: 0.1914 - acc: 0.9369 - f1: 0.2418 - val_loss: 0.1864 - val_acc: 0.9356 - val_f1: 0.1863\n",
      "Epoch 3/20\n",
      "25569/25569 [==============================] - 34s 1ms/step - loss: 0.1826 - acc: 0.9408 - f1: 0.2685 - val_loss: 0.1718 - val_acc: 0.9440 - val_f1: 0.2533\n",
      "Epoch 4/20\n",
      "25569/25569 [==============================] - 31s 1ms/step - loss: 0.1761 - acc: 0.9416 - f1: 0.2820 - val_loss: 0.1740 - val_acc: 0.9454 - val_f1: 0.2796\n",
      "Epoch 5/20\n",
      "25569/25569 [==============================] - 32s 1ms/step - loss: 0.1683 - acc: 0.9448 - f1: 0.3059 - val_loss: 0.1753 - val_acc: 0.9465 - val_f1: 0.2683\n",
      "Epoch 6/20\n",
      "25569/25569 [==============================] - 30s 1ms/step - loss: 0.1659 - acc: 0.9451 - f1: 0.3216 - val_loss: 0.1707 - val_acc: 0.9465 - val_f1: 0.3211\n",
      "Epoch 7/20\n",
      "25569/25569 [==============================] - 31s 1ms/step - loss: 0.1572 - acc: 0.9488 - f1: 0.3401 - val_loss: 0.1641 - val_acc: 0.9448 - val_f1: 0.3435\n",
      "Epoch 8/20\n",
      "25569/25569 [==============================] - 35s 1ms/step - loss: 0.1501 - acc: 0.9505 - f1: 0.3571 - val_loss: 0.1683 - val_acc: 0.9449 - val_f1: 0.3163\n",
      "Epoch 9/20\n",
      "25569/25569 [==============================] - 36s 1ms/step - loss: 0.1455 - acc: 0.9517 - f1: 0.3852 - val_loss: 0.1587 - val_acc: 0.9473 - val_f1: 0.3323\n",
      "Epoch 10/20\n",
      "25569/25569 [==============================] - 35s 1ms/step - loss: 0.1392 - acc: 0.9549 - f1: 0.4035 - val_loss: 0.1628 - val_acc: 0.9487 - val_f1: 0.3479\n",
      "Epoch 11/20\n",
      "25569/25569 [==============================] - 40s 2ms/step - loss: 0.1327 - acc: 0.9576 - f1: 0.4291 - val_loss: 0.1611 - val_acc: 0.9478 - val_f1: 0.3298\n",
      "Epoch 12/20\n",
      "16224/25569 [==================>...........] - ETA: 11s - loss: 0.1231 - acc: 0.9592 - f1: 0.4447"
     ]
    }
   ],
   "source": [
    "from personal_library.sce_keras.layers.custom_layers import CBGN\n",
    "from keras.callbacks import ModelCheckpoint\n",
    "from keras.models import Sequential \n",
    "from keras.optimizers import Adam\n",
    "from keras.layers import (\n",
    "    Flatten,\n",
    "    Activation,\n",
    "    Dense,\n",
    "    LSTM,\n",
    "    Dropout,\n",
    "    SpatialDropout1D\n",
    ")\n",
    "\n",
    "\n",
    "num_classes = 1\n",
    "batch_size = 32\n",
    "epochs = 20\n",
    "learnRate = 0.00001\n",
    "\n",
    "metric = F1PrecisionRecall()\n",
    "lrate_decay = LearningRateDecay(epochs, learnRate).step_decay\n",
    "\n",
    "checkpoint_path = \"../model_wehigts/conv_wehigts.hdf5\"\n",
    "checkpointer = ModelCheckpoint(filepath=checkpoint_path,\n",
    "                               monitor='val_loss', verbose=1,\n",
    "                               save_best_only=True, mode='min')\n",
    "\n",
    "model = Sequential()\n",
    "model.add(SpatialDropout1D(0.2, input_shape=shape))\n",
    "model.add(LSTM(200))\n",
    "model.add(Dense(1, activation='sigmoid'))\n",
    "\n",
    "adam = Adam(lr=learnRate, beta_1=0.9, beta_2=0.999,\n",
    "            epsilon=None, decay=1e-6, amsgrad=False)\n",
    "\n",
    "# 'binary_crossentropy'\n",
    "model.compile(loss='binary_crossentropy', \n",
    "              optimizer='adam', \n",
    "              metrics=['accuracy', f1]) \n",
    "\n",
    "history = model.fit(x_train, y_train, \n",
    "                    batch_size=batch_size,\n",
    "                    epochs=epochs,\n",
    "                    verbose=1,\n",
    "                    validation_data=(x_val, y_val),\n",
    "                   )"
   ]
  },
  {
   "cell_type": "code",
   "execution_count": null,
   "metadata": {},
   "outputs": [],
   "source": []
  }
 ],
 "metadata": {
  "kernelspec": {
   "display_name": "Python 3",
   "language": "python",
   "name": "python3"
  },
  "language_info": {
   "codemirror_mode": {
    "name": "ipython",
    "version": 3
   },
   "file_extension": ".py",
   "mimetype": "text/x-python",
   "name": "python",
   "nbconvert_exporter": "python",
   "pygments_lexer": "ipython3",
   "version": "3.6.5"
  }
 },
 "nbformat": 4,
 "nbformat_minor": 2
}
