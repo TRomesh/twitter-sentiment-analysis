{
 "cells": [
  {
   "cell_type": "markdown",
   "metadata": {},
   "source": [
    "# Data Clean"
   ]
  },
  {
   "cell_type": "code",
   "execution_count": 1,
   "metadata": {},
   "outputs": [],
   "source": [
    "import re\n",
    "import sys\n",
    "import pandas as pd \n",
    "import numpy as np \n",
    "import matplotlib.pyplot as plt \n",
    "import seaborn as sns\n",
    "import string\n",
    "import nltk\n",
    "import warnings \n",
    "warnings.filterwarnings(\"ignore\", category=DeprecationWarning)\n",
    "\n",
    "sys.path.append(\"../\") \n",
    "from personal_library.NLP.preprocess import (\n",
    "    remove_pattern,\n",
    "    rm_pun_num_esp_cha,\n",
    "    rm_length_word,\n",
    "    tokenize,\n",
    "    stemmer,\n",
    "    join_tokenize,\n",
    "    hashtag_extract,\n",
    "    count_caps,\n",
    "    hashtag_rm\n",
    ")\n",
    "\n",
    "from personal_library.NLP.data_analysis import(\n",
    "    plot_labels_wordcloud,\n",
    "    plot_hashtag_hist,\n",
    ")\n",
    "\n",
    "from personal_library.NLP.core.model_preprocessors import (\n",
    "    corpus2vec,\n",
    "    standard_word2vec_size\n",
    ")\n",
    "\n",
    "from gensim.models import KeyedVectors\n",
    "from sklearn.manifold import TSNE\n",
    "\n",
    "%load_ext autoreload\n",
    "%autoreload 2\n",
    "%matplotlib inline"
   ]
  },
  {
   "cell_type": "code",
   "execution_count": 2,
   "metadata": {},
   "outputs": [
    {
     "data": {
      "text/html": [
       "<div>\n",
       "<style scoped>\n",
       "    .dataframe tbody tr th:only-of-type {\n",
       "        vertical-align: middle;\n",
       "    }\n",
       "\n",
       "    .dataframe tbody tr th {\n",
       "        vertical-align: top;\n",
       "    }\n",
       "\n",
       "    .dataframe thead th {\n",
       "        text-align: right;\n",
       "    }\n",
       "</style>\n",
       "<table border=\"1\" class=\"dataframe\">\n",
       "  <thead>\n",
       "    <tr style=\"text-align: right;\">\n",
       "      <th></th>\n",
       "      <th>id</th>\n",
       "      <th>label</th>\n",
       "      <th>tweet</th>\n",
       "    </tr>\n",
       "  </thead>\n",
       "  <tbody>\n",
       "    <tr>\n",
       "      <th>0</th>\n",
       "      <td>1</td>\n",
       "      <td>0</td>\n",
       "      <td>@user when a father is dysfunctional and is s...</td>\n",
       "    </tr>\n",
       "    <tr>\n",
       "      <th>1</th>\n",
       "      <td>2</td>\n",
       "      <td>0</td>\n",
       "      <td>@user @user thanks for #lyft credit i can't us...</td>\n",
       "    </tr>\n",
       "    <tr>\n",
       "      <th>2</th>\n",
       "      <td>3</td>\n",
       "      <td>0</td>\n",
       "      <td>bihday your majesty</td>\n",
       "    </tr>\n",
       "    <tr>\n",
       "      <th>3</th>\n",
       "      <td>4</td>\n",
       "      <td>0</td>\n",
       "      <td>#model   i love u take with u all the time in ...</td>\n",
       "    </tr>\n",
       "    <tr>\n",
       "      <th>4</th>\n",
       "      <td>5</td>\n",
       "      <td>0</td>\n",
       "      <td>factsguide: society now    #motivation</td>\n",
       "    </tr>\n",
       "  </tbody>\n",
       "</table>\n",
       "</div>"
      ],
      "text/plain": [
       "   id  label                                              tweet\n",
       "0   1      0   @user when a father is dysfunctional and is s...\n",
       "1   2      0  @user @user thanks for #lyft credit i can't us...\n",
       "2   3      0                                bihday your majesty\n",
       "3   4      0  #model   i love u take with u all the time in ...\n",
       "4   5      0             factsguide: society now    #motivation"
      ]
     },
     "execution_count": 2,
     "metadata": {},
     "output_type": "execute_result"
    }
   ],
   "source": [
    "# Path to train and test files\n",
    "train_path = '../data/train_E6oV3lV.csv'\n",
    "test_path = '../data/test_tweets_anuFYb8.csv'\n",
    "\n",
    "train  = pd.read_csv(train_path)\n",
    "test = pd.read_csv(test_path)\n",
    "\n",
    "all_data = train.append(test, ignore_index=True, sort=True)\n",
    "\n",
    "train.head()"
   ]
  },
  {
   "cell_type": "code",
   "execution_count": 3,
   "metadata": {},
   "outputs": [],
   "source": [
    "all_data['tidy_tweet'] = np.vectorize(remove_pattern)(all_data['tweet'], \"@[\\w]*\")\n",
    "all_data['tidy_tweet'] = rm_pun_num_esp_cha(all_data['tidy_tweet'])\n",
    "all_data['tidy_tweet'] = rm_length_word(all_data['tidy_tweet'])\n",
    "tokenized_tweet = tokenize(all_data['tidy_tweet'])\n",
    "# tokenized_tweet = stemmer(tokenized_tweet)\n",
    "all_data['tidy_tweet'] = join_tokenize(tokenized_tweet)\n",
    "all_data['hashtag'] = hashtag_extract(all_data['tidy_tweet'], flatten=False)\n",
    "all_data['tidy_tweet'] = np.vectorize(remove_pattern)(all_data['tidy_tweet'], \"#[\\w]*\")"
   ]
  },
  {
   "cell_type": "code",
   "execution_count": 4,
   "metadata": {},
   "outputs": [
    {
     "data": {
      "text/html": [
       "<div>\n",
       "<style scoped>\n",
       "    .dataframe tbody tr th:only-of-type {\n",
       "        vertical-align: middle;\n",
       "    }\n",
       "\n",
       "    .dataframe tbody tr th {\n",
       "        vertical-align: top;\n",
       "    }\n",
       "\n",
       "    .dataframe thead th {\n",
       "        text-align: right;\n",
       "    }\n",
       "</style>\n",
       "<table border=\"1\" class=\"dataframe\">\n",
       "  <thead>\n",
       "    <tr style=\"text-align: right;\">\n",
       "      <th></th>\n",
       "      <th>id</th>\n",
       "      <th>label</th>\n",
       "      <th>tweet</th>\n",
       "      <th>tidy_tweet</th>\n",
       "      <th>hashtag</th>\n",
       "      <th>Name Length</th>\n",
       "    </tr>\n",
       "  </thead>\n",
       "  <tbody>\n",
       "    <tr>\n",
       "      <th>0</th>\n",
       "      <td>1</td>\n",
       "      <td>0</td>\n",
       "      <td>@user when a father is dysfunctional and is s...</td>\n",
       "      <td>when father dysfunctional selfish drags kids i...</td>\n",
       "      <td>[run]</td>\n",
       "      <td>62</td>\n",
       "    </tr>\n",
       "    <tr>\n",
       "      <th>1</th>\n",
       "      <td>2</td>\n",
       "      <td>0</td>\n",
       "      <td>@user @user thanks for #lyft credit i can't us...</td>\n",
       "      <td>thanks  credit cause they offer wheelchair vans</td>\n",
       "      <td>[lyft, disapointed, getthanked]</td>\n",
       "      <td>49</td>\n",
       "    </tr>\n",
       "    <tr>\n",
       "      <th>2</th>\n",
       "      <td>3</td>\n",
       "      <td>0</td>\n",
       "      <td>bihday your majesty</td>\n",
       "      <td>bihday your majesty</td>\n",
       "      <td>[]</td>\n",
       "      <td>19</td>\n",
       "    </tr>\n",
       "    <tr>\n",
       "      <th>3</th>\n",
       "      <td>4</td>\n",
       "      <td>0</td>\n",
       "      <td>#model   i love u take with u all the time in ...</td>\n",
       "      <td>love take with time</td>\n",
       "      <td>[model]</td>\n",
       "      <td>20</td>\n",
       "    </tr>\n",
       "    <tr>\n",
       "      <th>4</th>\n",
       "      <td>5</td>\n",
       "      <td>0</td>\n",
       "      <td>factsguide: society now    #motivation</td>\n",
       "      <td>factsguide society</td>\n",
       "      <td>[motivation]</td>\n",
       "      <td>19</td>\n",
       "    </tr>\n",
       "  </tbody>\n",
       "</table>\n",
       "</div>"
      ],
      "text/plain": [
       "   id label                                              tweet  \\\n",
       "0   1     0   @user when a father is dysfunctional and is s...   \n",
       "1   2     0  @user @user thanks for #lyft credit i can't us...   \n",
       "2   3     0                                bihday your majesty   \n",
       "3   4     0  #model   i love u take with u all the time in ...   \n",
       "4   5     0             factsguide: society now    #motivation   \n",
       "\n",
       "                                          tidy_tweet  \\\n",
       "0  when father dysfunctional selfish drags kids i...   \n",
       "1  thanks  credit cause they offer wheelchair vans     \n",
       "2                                bihday your majesty   \n",
       "3                                love take with time   \n",
       "4                                factsguide society    \n",
       "\n",
       "                           hashtag  Name Length  \n",
       "0                            [run]           62  \n",
       "1  [lyft, disapointed, getthanked]           49  \n",
       "2                               []           19  \n",
       "3                          [model]           20  \n",
       "4                     [motivation]           19  "
      ]
     },
     "execution_count": 4,
     "metadata": {},
     "output_type": "execute_result"
    }
   ],
   "source": [
    "tokenized_tweet = tokenize(all_data['tidy_tweet'])\n",
    "all_data.fillna('test', inplace = True)\n",
    "all_data.to_csv('../data/pandas_data_frame.csv')\n",
    "all_data[\"Name Length\"] = all_data['tidy_tweet'].str.len()\n",
    "all_data.head()"
   ]
  },
  {
   "cell_type": "code",
   "execution_count": 5,
   "metadata": {},
   "outputs": [
    {
     "data": {
      "text/html": [
       "<div>\n",
       "<style scoped>\n",
       "    .dataframe tbody tr th:only-of-type {\n",
       "        vertical-align: middle;\n",
       "    }\n",
       "\n",
       "    .dataframe tbody tr th {\n",
       "        vertical-align: top;\n",
       "    }\n",
       "\n",
       "    .dataframe thead th {\n",
       "        text-align: right;\n",
       "    }\n",
       "</style>\n",
       "<table border=\"1\" class=\"dataframe\">\n",
       "  <thead>\n",
       "    <tr style=\"text-align: right;\">\n",
       "      <th></th>\n",
       "      <th>id</th>\n",
       "      <th>label</th>\n",
       "      <th>tweet</th>\n",
       "      <th>tidy_tweet</th>\n",
       "      <th>hashtag</th>\n",
       "      <th>Name Length</th>\n",
       "    </tr>\n",
       "  </thead>\n",
       "  <tbody>\n",
       "    <tr>\n",
       "      <th>49154</th>\n",
       "      <td>49155</td>\n",
       "      <td>test</td>\n",
       "      <td>thought factory: left-right polarisation! #tru...</td>\n",
       "      <td>thought factory left right polarisation</td>\n",
       "      <td>[trump, uselections, leadership, politics, bre...</td>\n",
       "      <td>45</td>\n",
       "    </tr>\n",
       "    <tr>\n",
       "      <th>49155</th>\n",
       "      <td>49156</td>\n",
       "      <td>test</td>\n",
       "      <td>feeling like a mermaid ð #hairflip #neverre...</td>\n",
       "      <td>feeling like mermaid</td>\n",
       "      <td>[hairflip, neverready, formal, wedding, gown, ...</td>\n",
       "      <td>27</td>\n",
       "    </tr>\n",
       "    <tr>\n",
       "      <th>49156</th>\n",
       "      <td>49157</td>\n",
       "      <td>test</td>\n",
       "      <td>#hillary #campaigned today in #ohio((omg)) &amp;am...</td>\n",
       "      <td>today  used words like assets liability neve...</td>\n",
       "      <td>[hillary, campaigned, ohio, clinton, radicaliz...</td>\n",
       "      <td>64</td>\n",
       "    </tr>\n",
       "    <tr>\n",
       "      <th>49157</th>\n",
       "      <td>49158</td>\n",
       "      <td>test</td>\n",
       "      <td>happy, at work conference: right mindset leads...</td>\n",
       "      <td>happy work conference right mindset leads cult...</td>\n",
       "      <td>[work, mindset]</td>\n",
       "      <td>77</td>\n",
       "    </tr>\n",
       "    <tr>\n",
       "      <th>49158</th>\n",
       "      <td>49159</td>\n",
       "      <td>test</td>\n",
       "      <td>my   song \"so glad\" free download!  #shoegaze ...</td>\n",
       "      <td>song glad free download</td>\n",
       "      <td>[shoegaze, newmusic, newsong]</td>\n",
       "      <td>26</td>\n",
       "    </tr>\n",
       "  </tbody>\n",
       "</table>\n",
       "</div>"
      ],
      "text/plain": [
       "          id label                                              tweet  \\\n",
       "49154  49155  test  thought factory: left-right polarisation! #tru...   \n",
       "49155  49156  test  feeling like a mermaid ð #hairflip #neverre...   \n",
       "49156  49157  test  #hillary #campaigned today in #ohio((omg)) &am...   \n",
       "49157  49158  test  happy, at work conference: right mindset leads...   \n",
       "49158  49159  test  my   song \"so glad\" free download!  #shoegaze ...   \n",
       "\n",
       "                                              tidy_tweet  \\\n",
       "49154      thought factory left right polarisation         \n",
       "49155                        feeling like mermaid          \n",
       "49156    today  used words like assets liability neve...   \n",
       "49157  happy work conference right mindset leads cult...   \n",
       "49158                         song glad free download      \n",
       "\n",
       "                                                 hashtag  Name Length  \n",
       "49154  [trump, uselections, leadership, politics, bre...           45  \n",
       "49155  [hairflip, neverready, formal, wedding, gown, ...           27  \n",
       "49156  [hillary, campaigned, ohio, clinton, radicaliz...           64  \n",
       "49157                                    [work, mindset]           77  \n",
       "49158                      [shoegaze, newmusic, newsong]           26  "
      ]
     },
     "execution_count": 5,
     "metadata": {},
     "output_type": "execute_result"
    }
   ],
   "source": [
    "all_data.tail()"
   ]
  },
  {
   "cell_type": "code",
   "execution_count": 6,
   "metadata": {},
   "outputs": [
    {
     "name": "stdout",
     "output_type": "stream",
     "text": [
      "Median:  33.0\n",
      "Media:  37.46933420126528\n",
      "Std:  22.043034003692348\n",
      "MAx:  119\n"
     ]
    }
   ],
   "source": [
    "print(\"Median: \", all_data[\"Name Length\"].median())\n",
    "print(\"Media: \", all_data[\"Name Length\"].mean())\n",
    "print(\"Std: \", all_data[\"Name Length\"].std())\n",
    "print(\"MAx: \", all_data[\"Name Length\"].max())"
   ]
  },
  {
   "cell_type": "code",
   "execution_count": 10,
   "metadata": {},
   "outputs": [
    {
     "data": {
      "text/plain": [
       "29720"
      ]
     },
     "execution_count": 10,
     "metadata": {},
     "output_type": "execute_result"
    }
   ],
   "source": [
    "np.count_nonzero(all_data['label'] == 0.0)"
   ]
  },
  {
   "cell_type": "markdown",
   "metadata": {},
   "source": [
    "# Word2Vec corpus Transformation"
   ]
  },
  {
   "cell_type": "code",
   "execution_count": 14,
   "metadata": {},
   "outputs": [],
   "source": [
    "# Load word2vec Model\n",
    "en_model = KeyedVectors.load_word2vec_format('../data/vectors/cc.en.300.vec')"
   ]
  },
  {
   "cell_type": "code",
   "execution_count": null,
   "metadata": {},
   "outputs": [],
   "source": [
    "import timeit\n",
    "\n",
    "start = timeit.timeit()\n",
    "\n",
    "test = corpus2vec(en_model, tokenized_tweet, use_next=True, debug=True)\n",
    "\n",
    "end = timeit.timeit()\n",
    "print(end - start)\n",
    "\n",
    "np.save('../data/numpy_vectorize_data', test)\n",
    "print(test.shape)"
   ]
  },
  {
   "cell_type": "markdown",
   "metadata": {},
   "source": [
    "### Clean data and make dataset of same length, use MAX"
   ]
  },
  {
   "cell_type": "code",
   "execution_count": 329,
   "metadata": {},
   "outputs": [],
   "source": [
    "%reload_ext autoreload\n",
    "\n",
    "data = np.load('../data/numpy_vectorize_data.npy')\n",
    "clean_data = standard_word2vec_size(data, 300)"
   ]
  },
  {
   "cell_type": "markdown",
   "metadata": {},
   "source": [
    "# Clean and save train and test data"
   ]
  },
  {
   "cell_type": "code",
   "execution_count": 330,
   "metadata": {},
   "outputs": [
    {
     "name": "stdout",
     "output_type": "stream",
     "text": [
      "(31962,)\n",
      "(31962, 19, 300)\n"
     ]
    }
   ],
   "source": [
    "test = clean_data[all_data['label']=='test']\n",
    "y = all_data['label'][(all_data['label']==1) | (all_data['label']==0)]\n",
    "X = clean_data[(all_data['label']==1) | (all_data['label']==0)]\n",
    "\n",
    "np.save('../data/dataset/X', X)\n",
    "np.save('../data/dataset/y', y)\n",
    "np.save('../data/dataset/test', test)\n",
    "\n",
    "print(y.shape)\n",
    "print(X.shape)"
   ]
  },
  {
   "cell_type": "code",
   "execution_count": null,
   "metadata": {},
   "outputs": [],
   "source": []
  }
 ],
 "metadata": {
  "kernelspec": {
   "display_name": "Python 3",
   "language": "python",
   "name": "python3"
  },
  "language_info": {
   "codemirror_mode": {
    "name": "ipython",
    "version": 3
   },
   "file_extension": ".py",
   "mimetype": "text/x-python",
   "name": "python",
   "nbconvert_exporter": "python",
   "pygments_lexer": "ipython3",
   "version": "3.6.8"
  }
 },
 "nbformat": 4,
 "nbformat_minor": 2
}
