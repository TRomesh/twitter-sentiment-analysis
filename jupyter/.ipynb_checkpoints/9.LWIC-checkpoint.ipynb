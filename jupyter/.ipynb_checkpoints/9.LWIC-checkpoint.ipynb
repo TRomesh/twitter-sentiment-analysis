{
 "cells": [
  {
   "cell_type": "markdown",
   "metadata": {},
   "source": [
    "# Train deep model + own emmbedings"
   ]
  },
  {
   "cell_type": "code",
   "execution_count": 1,
   "metadata": {},
   "outputs": [],
   "source": [
    "import re\n",
    "import pandas as pd\n",
    "from collections import Counter\n",
    "from ast import literal_eval\n",
    "from sklearn.model_selection import train_test_split\n",
    "\n",
    "liwcPath = '../data/LIWIC/LIWC2007_English100131.dic'"
   ]
  },
  {
   "cell_type": "code",
   "execution_count": 2,
   "metadata": {},
   "outputs": [],
   "source": [
    "df = pd.read_csv('../data/pandas_data_frame.csv', index_col=0)\n",
    "all_data = df.where((pd.notnull(df)), '')\n",
    "all_data['hashtag'] = all_data['hashtag'].apply(literal_eval)\n",
    "\n",
    "full_text = all_data['tidy_tweet'][(all_data['label']==1.0) | (all_data['label']==0.0)]\n",
    "y = all_data['label'][(all_data['label']==1.0) | (all_data['label']==0.0)]"
   ]
  },
  {
   "cell_type": "code",
   "execution_count": 3,
   "metadata": {},
   "outputs": [
    {
     "data": {
      "text/plain": [
       "0    when father dysfunct selfish drag kid into dys...\n",
       "1       thank  credit caus they offer wheelchair van  \n",
       "2                                  bihday your majesti\n",
       "3                                  love take with time\n",
       "4                                   factsguid societi \n",
       "5    huge fare talk befor they leav chao disput whe...\n",
       "6                                  camp tomorrow danni\n",
       "7    next school year year exam think about that   ...\n",
       "8                                 love land     cavali\n",
       "9                                          welcom here\n",
       "Name: tidy_tweet, dtype: object"
      ]
     },
     "execution_count": 3,
     "metadata": {},
     "output_type": "execute_result"
    }
   ],
   "source": [
    "full_text[0:10]"
   ]
  },
  {
   "cell_type": "code",
   "execution_count": 4,
   "metadata": {},
   "outputs": [
    {
     "name": "stdout",
     "output_type": "stream",
     "text": [
      "(25569, 64) (25569,)\n",
      "(6393, 64) (6393,)\n"
     ]
    }
   ],
   "source": [
    "import sys\n",
    "sys.path.append(\"../\")\n",
    "from personal_library.NPL.liwc import LIWCProcessor\n",
    "\n",
    "liwic = LIWCProcessor(liwcPath)\n",
    "liwic_text = liwic.corpus2liwc(full_text)\n",
    "x_train, x_val, y_train, y_val = train_test_split(liwic_text, y, random_state=1992, test_size=0.2)\n",
    "\n",
    "print(x_train.shape,y_train.shape)\n",
    "print(x_val.shape,y_val.shape)"
   ]
  },
  {
   "cell_type": "code",
   "execution_count": 7,
   "metadata": {},
   "outputs": [
    {
     "name": "stdout",
     "output_type": "stream",
     "text": [
      "_________________________________________________________________\n",
      "Layer (type)                 Output Shape              Param #   \n",
      "=================================================================\n",
      "dense_7 (Dense)              (None, 32)                2080      \n",
      "_________________________________________________________________\n",
      "dropout_1 (Dropout)          (None, 32)                0         \n",
      "_________________________________________________________________\n",
      "dense_8 (Dense)              (None, 16)                528       \n",
      "_________________________________________________________________\n",
      "dense_9 (Dense)              (None, 1)                 17        \n",
      "=================================================================\n",
      "Total params: 2,625\n",
      "Trainable params: 2,625\n",
      "Non-trainable params: 0\n",
      "_________________________________________________________________\n",
      "Train on 25569 samples, validate on 6393 samples\n",
      "Epoch 1/40\n",
      " - 1s - loss: 0.7841 - acc: 0.7607 - f1: 0.2159 - val_loss: 0.7419 - val_acc: 0.8442 - val_f1: 0.2581\n",
      "Epoch 2/40\n",
      " - 0s - loss: 0.7361 - acc: 0.8620 - f1: 0.2639 - val_loss: 0.7329 - val_acc: 0.8555 - val_f1: 0.2671\n",
      "Epoch 3/40\n",
      " - 0s - loss: 0.7309 - acc: 0.8626 - f1: 0.2691 - val_loss: 0.7267 - val_acc: 0.8431 - val_f1: 0.2733\n",
      "Epoch 4/40\n",
      " - 0s - loss: 0.7238 - acc: 0.8701 - f1: 0.2762 - val_loss: 0.7705 - val_acc: 0.7325 - val_f1: 0.2295\n",
      "Epoch 5/40\n",
      " - 0s - loss: 0.7211 - acc: 0.8545 - f1: 0.2789 - val_loss: 0.7371 - val_acc: 0.8893 - val_f1: 0.2629\n",
      "Epoch 6/40\n",
      " - 0s - loss: 0.7124 - acc: 0.8656 - f1: 0.2876 - val_loss: 0.7275 - val_acc: 0.8663 - val_f1: 0.2725\n",
      "Epoch 7/40\n",
      " - 0s - loss: 0.7073 - acc: 0.8723 - f1: 0.2927 - val_loss: 0.7318 - val_acc: 0.8914 - val_f1: 0.2682\n",
      "Epoch 8/40\n",
      " - 0s - loss: 0.7144 - acc: 0.8734 - f1: 0.2856 - val_loss: 0.7236 - val_acc: 0.8517 - val_f1: 0.2764\n",
      "Epoch 9/40\n",
      " - 0s - loss: 0.7135 - acc: 0.8690 - f1: 0.2865 - val_loss: 0.7370 - val_acc: 0.8670 - val_f1: 0.2630\n",
      "Epoch 10/40\n",
      " - 0s - loss: 0.7055 - acc: 0.8766 - f1: 0.2945 - val_loss: 0.7287 - val_acc: 0.8855 - val_f1: 0.2713\n",
      "Epoch 11/40\n",
      " - 0s - loss: 0.7008 - acc: 0.8774 - f1: 0.2992 - val_loss: 0.7365 - val_acc: 0.8293 - val_f1: 0.2635\n",
      "Epoch 12/40\n",
      " - 0s - loss: 0.7008 - acc: 0.8710 - f1: 0.2992 - val_loss: 0.7436 - val_acc: 0.8802 - val_f1: 0.2564\n",
      "Epoch 13/40\n",
      " - 0s - loss: 0.7028 - acc: 0.8749 - f1: 0.2972 - val_loss: 0.7308 - val_acc: 0.8354 - val_f1: 0.2692\n",
      "Epoch 14/40\n",
      " - 0s - loss: 0.6943 - acc: 0.8743 - f1: 0.3057 - val_loss: 0.7236 - val_acc: 0.8534 - val_f1: 0.2764\n",
      "Epoch 15/40\n",
      " - 0s - loss: 0.6952 - acc: 0.8751 - f1: 0.3048 - val_loss: 0.7222 - val_acc: 0.8717 - val_f1: 0.2778\n",
      "Epoch 16/40\n",
      " - 0s - loss: 0.6943 - acc: 0.8771 - f1: 0.3057 - val_loss: 0.7210 - val_acc: 0.8597 - val_f1: 0.2790\n",
      "Epoch 17/40\n",
      " - 0s - loss: 0.6914 - acc: 0.8761 - f1: 0.3086 - val_loss: 0.7337 - val_acc: 0.8791 - val_f1: 0.2663\n",
      "Epoch 18/40\n",
      " - 0s - loss: 0.6891 - acc: 0.8808 - f1: 0.3109 - val_loss: 0.7510 - val_acc: 0.8985 - val_f1: 0.2490\n",
      "Epoch 19/40\n",
      " - 0s - loss: 0.6865 - acc: 0.8770 - f1: 0.3135 - val_loss: 0.7382 - val_acc: 0.8880 - val_f1: 0.2618\n",
      "Epoch 20/40\n",
      " - 0s - loss: 0.6968 - acc: 0.8757 - f1: 0.3032 - val_loss: 0.7253 - val_acc: 0.8927 - val_f1: 0.2747\n",
      "Epoch 21/40\n",
      " - 0s - loss: 0.6966 - acc: 0.8806 - f1: 0.3034 - val_loss: 0.7494 - val_acc: 0.8974 - val_f1: 0.2506\n",
      "Epoch 22/40\n",
      " - 0s - loss: 0.6845 - acc: 0.8878 - f1: 0.3155 - val_loss: 0.7381 - val_acc: 0.8899 - val_f1: 0.2619\n",
      "Epoch 23/40\n",
      " - 0s - loss: 0.6856 - acc: 0.8872 - f1: 0.3144 - val_loss: 0.7257 - val_acc: 0.8819 - val_f1: 0.2743\n",
      "Epoch 24/40\n",
      " - 0s - loss: 0.6839 - acc: 0.8732 - f1: 0.3161 - val_loss: 0.7187 - val_acc: 0.8835 - val_f1: 0.2813\n",
      "Epoch 25/40\n",
      " - 0s - loss: 0.6732 - acc: 0.8982 - f1: 0.3268 - val_loss: 0.7125 - val_acc: 0.8913 - val_f1: 0.2875\n",
      "Epoch 26/40\n",
      " - 0s - loss: 0.6828 - acc: 0.8824 - f1: 0.3172 - val_loss: 0.7161 - val_acc: 0.8866 - val_f1: 0.2839\n",
      "Epoch 27/40\n",
      " - 0s - loss: 0.6886 - acc: 0.8948 - f1: 0.3114 - val_loss: 0.7102 - val_acc: 0.8961 - val_f1: 0.2898\n",
      "Epoch 28/40\n",
      " - 0s - loss: 0.6841 - acc: 0.8899 - f1: 0.3159 - val_loss: 0.7183 - val_acc: 0.8647 - val_f1: 0.2817\n",
      "Epoch 29/40\n",
      " - 0s - loss: 0.6956 - acc: 0.8634 - f1: 0.3044 - val_loss: 0.7117 - val_acc: 0.8758 - val_f1: 0.2883\n",
      "Epoch 30/40\n",
      " - 0s - loss: 0.6918 - acc: 0.8759 - f1: 0.3082 - val_loss: 0.7190 - val_acc: 0.8741 - val_f1: 0.2810\n",
      "Epoch 31/40\n",
      " - 0s - loss: 0.6809 - acc: 0.8858 - f1: 0.3191 - val_loss: 0.7302 - val_acc: 0.8863 - val_f1: 0.2698\n",
      "Epoch 32/40\n",
      " - 0s - loss: 0.6889 - acc: 0.8683 - f1: 0.3111 - val_loss: 0.7230 - val_acc: 0.8789 - val_f1: 0.2770\n",
      "Epoch 33/40\n",
      " - 0s - loss: 0.6773 - acc: 0.8844 - f1: 0.3227 - val_loss: 0.7258 - val_acc: 0.8941 - val_f1: 0.2742\n",
      "Epoch 34/40\n",
      " - 0s - loss: 0.6797 - acc: 0.8895 - f1: 0.3203 - val_loss: 0.7118 - val_acc: 0.8742 - val_f1: 0.2882\n",
      "Epoch 35/40\n",
      " - 0s - loss: 0.6925 - acc: 0.8796 - f1: 0.3075 - val_loss: 0.7240 - val_acc: 0.8736 - val_f1: 0.2760\n",
      "Epoch 36/40\n",
      " - 0s - loss: 0.6813 - acc: 0.8749 - f1: 0.3187 - val_loss: 0.7206 - val_acc: 0.8874 - val_f1: 0.2794\n",
      "Epoch 37/40\n",
      " - 0s - loss: 0.6812 - acc: 0.8743 - f1: 0.3188 - val_loss: 0.7225 - val_acc: 0.8888 - val_f1: 0.2775\n",
      "Epoch 38/40\n",
      " - 0s - loss: 0.6860 - acc: 0.8795 - f1: 0.3140 - val_loss: 0.7280 - val_acc: 0.8905 - val_f1: 0.2720\n",
      "Epoch 39/40\n",
      " - 0s - loss: 0.6897 - acc: 0.8881 - f1: 0.3103 - val_loss: 0.7230 - val_acc: 0.8847 - val_f1: 0.2770\n",
      "Epoch 40/40\n",
      " - 0s - loss: 0.6881 - acc: 0.8997 - f1: 0.3119 - val_loss: 0.7262 - val_acc: 0.8570 - val_f1: 0.2738\n"
     ]
    }
   ],
   "source": [
    "from personal_library.sce_keras.loss_functions import f1_loss\n",
    "from personal_library.sce_keras.metrics_functions import f1\n",
    "\n",
    "from keras.layers import Dense, LSTM, SpatialDropout1D, Dropout\n",
    "from keras.models import Sequential\n",
    "from keras.optimizers import Adam\n",
    "\n",
    "shape = liwic_text.shape\n",
    "epochs = 40\n",
    "batch_size = 128\n",
    "learnRate = 0.01\n",
    "\n",
    "adam = Adam(lr=learnRate, beta_1=0.9, beta_2=0.999,\n",
    "            epsilon=None, decay=1e-6, amsgrad=False)\n",
    "\n",
    "model = Sequential()\n",
    "model.add(Dropout(0.1,  input_shape=(64,)))\n",
    "model.add(Dense(32,activation='relu'))\n",
    "model.add(Dropout(0.2))\n",
    "model.add(Dense(16,activation='relu'))\n",
    "model.add(Dropout(0.4))\n",
    "model.add(Dense(1,activation='sigmoid'))\n",
    "model.summary()\n",
    "\n",
    "model.compile(loss=f1_loss,\n",
    "              optimizer=adam,\n",
    "              metrics = ['accuracy', f1])\n",
    "\n",
    "history = model.fit(x_train, y_train, \n",
    "                    batch_size=batch_size,\n",
    "                    epochs=epochs,\n",
    "                    verbose=2,\n",
    "                    validation_data=(x_val, y_val))"
   ]
  },
  {
   "cell_type": "code",
   "execution_count": 4,
   "metadata": {},
   "outputs": [],
   "source": []
  }
 ],
 "metadata": {
  "kernelspec": {
   "display_name": "Python 3",
   "language": "python",
   "name": "python3"
  },
  "language_info": {
   "codemirror_mode": {
    "name": "ipython",
    "version": 3
   },
   "file_extension": ".py",
   "mimetype": "text/x-python",
   "name": "python",
   "nbconvert_exporter": "python",
   "pygments_lexer": "ipython3",
   "version": "3.6.5"
  }
 },
 "nbformat": 4,
 "nbformat_minor": 2
}
