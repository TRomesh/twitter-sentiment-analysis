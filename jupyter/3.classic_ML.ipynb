{
 "cells": [
  {
   "cell_type": "markdown",
   "metadata": {},
   "source": [
    "# Clasic Machine Learning"
   ]
  },
  {
   "cell_type": "code",
   "execution_count": 1,
   "metadata": {},
   "outputs": [],
   "source": [
    "import pandas as pd\n",
    "import numpy as np\n",
    "from sklearn.model_selection import train_test_split\n",
    "from sklearn.feature_extraction.text import (\n",
    "    CountVectorizer,\n",
    "    TfidfVectorizer\n",
    ")\n",
    "from ast import literal_eval\n",
    "\n",
    "\n",
    "# Path to train and test files\n",
    "train_path = '../data/train_E6oV3lV.csv'\n",
    "test_path = '../data/test_tweets_anuFYb8.csv'\n",
    "\n",
    "train  = pd.read_csv(train_path)\n",
    "test = pd.read_csv(test_path)\n",
    "\n",
    "# Processed data\n",
    "df = pd.read_csv('../data/pandas_data_frame.csv', index_col=0)\n",
    "all_data = df.where((pd.notnull(df)), '')\n",
    "all_data['hashtag'] = all_data['hashtag'].apply(literal_eval)\n",
    "\n",
    "# bag-of-words feature matrix\n",
    "bow_vectorizer = CountVectorizer(max_df=0.90, min_df=2, max_features=1000, stop_words='english')\n",
    "bow = bow_vectorizer.fit_transform(all_data['tidy_tweet'])\n",
    "\n",
    "# TF-IDF feature matrix\n",
    "tfidf_vectorizer = TfidfVectorizer(max_df=0.90, min_df=2, max_features=1000, stop_words='english')\n",
    "tfidf = tfidf_vectorizer.fit_transform(all_data['tidy_tweet'])\n",
    "\n",
    "\n",
    "train_bow = bow[:31962,:]\n",
    "test_bow = bow[31962:,:]\n",
    "\n",
    "# splitting data into training and validation set\n",
    "xtrain_bow, xvalid_bow, ytrain, yvalid = train_test_split(train_bow, train['label'], random_state=42, test_size=0.3)"
   ]
  },
  {
   "cell_type": "code",
   "execution_count": 2,
   "metadata": {},
   "outputs": [
    {
     "name": "stdout",
     "output_type": "stream",
     "text": [
      "Logistic Regression with BOW f1: 0.42742653606411396\n",
      "Logistic Regression with TF-IDF f1: 0.4140550807217474\n"
     ]
    }
   ],
   "source": [
    "from sklearn.linear_model import LogisticRegression\n",
    "from sklearn.model_selection import train_test_split\n",
    "from sklearn.metrics import f1_score\n",
    "\n",
    "# Logistic Regression with BOW\n",
    "lreg = LogisticRegression()\n",
    "lreg.fit(xtrain_bow, ytrain) # training the model\n",
    "\n",
    "prediction = lreg.predict_proba(xvalid_bow) # predicting on the validation set\n",
    "prediction_int = prediction[:,1] >= 0.3 # if prediction is greater than or equal to 0.3 than 1 else 0\n",
    "prediction_int = prediction_int.astype(np.int)\n",
    "\n",
    "print(\"Logistic Regression with BOW f1: {}\".format(f1_score(yvalid, prediction_int)))\n",
    "\n",
    "# Logistic Regression with TF-IDF\n",
    "train_tfidf = tfidf[:31962,:]\n",
    "test_tfidf = tfidf[31962:,:]\n",
    "\n",
    "xtrain_tfidf = train_tfidf[ytrain.index]\n",
    "xvalid_tfidf = train_tfidf[yvalid.index]\n",
    "\n",
    "lreg.fit(xtrain_tfidf, ytrain)\n",
    "\n",
    "prediction = lreg.predict_proba(xvalid_tfidf)\n",
    "prediction_int = prediction[:,1] >= 0.3\n",
    "prediction_int = prediction_int.astype(np.int)\n",
    "\n",
    "print(\"Logistic Regression with TF-IDF f1: {}\".format(f1_score(yvalid, prediction_int)))"
   ]
  },
  {
   "cell_type": "code",
   "execution_count": 3,
   "metadata": {},
   "outputs": [
    {
     "name": "stdout",
     "output_type": "stream",
     "text": [
      "Naive Bayes Gaussian with TF-IDF f1: 0.1775480059084195\n",
      "Decision Tree Classifier with TF-IDF f1: 0.471195184866724\n",
      "SVM with TF-IDF f1: 0.3795620437956205\n"
     ]
    }
   ],
   "source": [
    "from sklearn.svm import LinearSVC\n",
    "from sklearn import tree\n",
    "from sklearn.naive_bayes import GaussianNB\n",
    "from sklearn.neighbors import KNeighborsClassifier\n",
    "\n",
    "# TF-IDF\n",
    "\n",
    "\"\"\"KNeighbors\n",
    "neigh = KNeighborsClassifier(n_neighbors=10)\n",
    "neigh = neigh.fit(xtrain_tfidf.toarray(), ytrain)\n",
    "y_pred = neigh.predict(xvalid_tfidf.toarray())\n",
    "print(\"KNeighbors with TF-IDF f1: {}\".format(f1_score(yvalid, y_pred)))\n",
    "\"\"\"\n",
    "\n",
    "\"\"\"Naive Bayes Gaussian\"\"\"\n",
    "gnb = GaussianNB()\n",
    "gnb = gnb.fit(xtrain_tfidf.toarray(), ytrain)\n",
    "y_pred = gnb.predict(xvalid_tfidf.toarray())\n",
    "print(\"Naive Bayes Gaussian with TF-IDF f1: {}\".format(f1_score(yvalid, y_pred)))\n",
    "\n",
    "\n",
    "\"\"\"Decision Tree Classifier\"\"\"\n",
    "clf = tree.DecisionTreeClassifier()\n",
    "clf = clf.fit(xtrain_tfidf, ytrain)  \n",
    "y_pred = clf.predict(xvalid_tfidf)\n",
    "print(\"Decision Tree Classifier with TF-IDF f1: {}\".format(f1_score(yvalid, y_pred)))\n",
    "\n",
    "\n",
    "\"\"\"SVM\"\"\"\n",
    "svm = LinearSVC()\n",
    "svm.fit(xtrain_tfidf, ytrain)  \n",
    "\n",
    "y_pred = svm.predict(xvalid_tfidf)\n",
    "print(\"SVM with TF-IDF f1: {}\".format(f1_score(yvalid, y_pred)))"
   ]
  },
  {
   "cell_type": "code",
   "execution_count": 4,
   "metadata": {},
   "outputs": [
    {
     "name": "stdout",
     "output_type": "stream",
     "text": [
      "Naive Bayes Gaussian with TF-IDF f1: 0.17315646840678933\n",
      "Decision Tree Classifier with TF-IDF f1: 0.4461190655614168\n",
      "SVM with TF-IDF f1: 0.39390862944162436\n"
     ]
    }
   ],
   "source": [
    "# BOW\n",
    "\n",
    "\"\"\"KNeighbors\n",
    "neigh = KNeighborsClassifier(n_neighbors=10)\n",
    "neigh = neigh.fit(xtrain_bow.toarray(), ytrain)\n",
    "y_pred = neigh.predict(xvalid_bow.toarray())\n",
    "print(\"KNeighbors with TF-IDF f1: {}\".format(f1_score(yvalid, y_pred)))\n",
    "\"\"\"\n",
    "\n",
    "\"\"\"Naive Bayes Gaussian\"\"\"\n",
    "gnb = GaussianNB()\n",
    "gnb = gnb.fit(xtrain_bow.toarray(), ytrain)\n",
    "y_pred = gnb.predict(xvalid_bow.toarray())\n",
    "print(\"Naive Bayes Gaussian with TF-IDF f1: {}\".format(f1_score(yvalid, y_pred)))\n",
    "\n",
    "\n",
    "\"\"\"Decision Tree Classifier\"\"\"\n",
    "clf = tree.DecisionTreeClassifier()\n",
    "clf = clf.fit(xtrain_bow, ytrain)  \n",
    "y_pred = clf.predict(xvalid_bow)\n",
    "print(\"Decision Tree Classifier with TF-IDF f1: {}\".format(f1_score(yvalid, y_pred)))\n",
    "\n",
    "\n",
    "\"\"\"SVM\"\"\"\n",
    "svm = LinearSVC()\n",
    "svm.fit(xtrain_bow, ytrain)  \n",
    "\n",
    "y_pred = svm.predict(xvalid_bow)\n",
    "print(\"SVM with TF-IDF f1: {}\".format(f1_score(yvalid, y_pred)))"
   ]
  },
  {
   "cell_type": "code",
   "execution_count": 5,
   "metadata": {},
   "outputs": [
    {
     "name": "stdout",
     "output_type": "stream",
     "text": [
      "Logistic Regression with TF-IDF and BOW f1: 0.43948497854077256\n",
      "SVM with TF-IDF and BOW  f1: 0.401174168297456\n",
      "Decision Tree Classifier with TF-IDF and BOW f1: 0.4756944444444445\n"
     ]
    }
   ],
   "source": [
    "from scipy.sparse import hstack\n",
    "\n",
    "# Stack BOW and TF-IDF\n",
    "x_val = hstack([xvalid_tfidf,xvalid_bow])\n",
    "x_train = hstack([xtrain_tfidf,xtrain_bow])\n",
    "\n",
    "\"\"\"Logistic Regression\"\"\"\n",
    "lreg = LogisticRegression()\n",
    "lreg.fit(x_train, ytrain)\n",
    "prediction = lreg.predict_proba(x_val)\n",
    "prediction_int = prediction[:,1] >= 0.3\n",
    "prediction_int = prediction_int.astype(np.int)\n",
    "\n",
    "print(\"Logistic Regression with TF-IDF and BOW f1: {}\".format(f1_score(yvalid, prediction_int)))\n",
    "\n",
    "\"\"\"SVM\"\"\"\n",
    "svm = LinearSVC()\n",
    "svm.fit(x_train, ytrain)  \n",
    "\n",
    "y_pred = svm.predict(x_val)\n",
    "print(\"SVM with TF-IDF and BOW  f1: {}\".format(f1_score(yvalid, y_pred)))\n",
    "\n",
    "\n",
    "\"\"\"Decision Tree Classifier\"\"\"\n",
    "clf = tree.DecisionTreeClassifier()\n",
    "clf = clf.fit(x_train, ytrain)  \n",
    "y_pred = clf.predict(x_val)\n",
    "print(\"Decision Tree Classifier with TF-IDF and BOW f1: {}\".format(f1_score(yvalid, y_pred)))"
   ]
  },
  {
   "cell_type": "code",
   "execution_count": null,
   "metadata": {},
   "outputs": [],
   "source": []
  }
 ],
 "metadata": {
  "kernelspec": {
   "display_name": "Python 3",
   "language": "python",
   "name": "python3"
  },
  "language_info": {
   "codemirror_mode": {
    "name": "ipython",
    "version": 3
   },
   "file_extension": ".py",
   "mimetype": "text/x-python",
   "name": "python",
   "nbconvert_exporter": "python",
   "pygments_lexer": "ipython3",
   "version": "3.6.8"
  }
 },
 "nbformat": 4,
 "nbformat_minor": 2
}
